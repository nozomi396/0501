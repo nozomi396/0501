{
 "cells": [
  {
   "cell_type": "code",
   "execution_count": 5,
   "metadata": {},
   "outputs": [],
   "source": [
    "def count(a,b,c) :\n",
    "    if (c == '+'):\n",
    "        return a + b\n",
    "    elif (c == '-'):\n",
    "        return a-b\n",
    "    elif (c == '*'):\n",
    "        return a*b\n",
    "    elif (c == '/'):\n",
    "        return a/b\n",
    "    else:\n",
    "        return '錯誤的算式'"
   ]
  },
  {
   "cell_type": "code",
   "execution_count": 8,
   "metadata": {},
   "outputs": [
    {
     "name": "stdout",
     "output_type": "stream",
     "text": [
      "請輸入被加數or被減數or被除數or被乘數10\n",
      "請輸入加數or減數or除數or乘數2\n",
      "請輸入+-*/-\n"
     ]
    },
    {
     "data": {
      "text/plain": [
       "8"
      ]
     },
     "execution_count": 8,
     "metadata": {},
     "output_type": "execute_result"
    }
   ],
   "source": [
    "a = input('請輸入被加數or被減數or被除數or被乘數')\n",
    "a = int(a)\n",
    "b = input('請輸入加數or減數or除數or乘數')\n",
    "b = int(b)\n",
    "c = input('請輸入+-*/')\n",
    "count(a,b,c)"
   ]
  },
  {
   "cell_type": "code",
   "execution_count": null,
   "metadata": {},
   "outputs": [],
   "source": []
  }
 ],
 "metadata": {
  "kernelspec": {
   "display_name": "Python 3",
   "language": "python",
   "name": "python3"
  },
  "language_info": {
   "codemirror_mode": {
    "name": "ipython",
    "version": 3
   },
   "file_extension": ".py",
   "mimetype": "text/x-python",
   "name": "python",
   "nbconvert_exporter": "python",
   "pygments_lexer": "ipython3",
   "version": "3.7.1"
  }
 },
 "nbformat": 4,
 "nbformat_minor": 2
}
