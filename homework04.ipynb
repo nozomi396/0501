{
 "cells": [
  {
   "cell_type": "code",
   "execution_count": 1,
   "metadata": {},
   "outputs": [],
   "source": [
    "def iron_man_color(iron_man_color):\n",
    "    if iron_man_color == '紅色':\n",
    "        return(\"鋼鐵人盔甲是紅色的\")\n",
    "    elif iron_man_color == \"綠⾊色\":\n",
    "        return(\"鋼鐵人其實也可以參考浩克的顏色\") \n",
    "    elif iron_man_color == \"藍色\":\n",
    "        return(\"鋼鐵人變成藍色小精靈也不錯\")\n",
    "    else: \n",
    "        return(\"好像沒這種顏色\")"
   ]
  },
  {
   "cell_type": "code",
   "execution_count": 2,
   "metadata": {},
   "outputs": [
    {
     "name": "stdout",
     "output_type": "stream",
     "text": [
      "鋼鐵人變成藍色小精靈也不錯\n"
     ]
    }
   ],
   "source": [
    "print (iron_man_color('藍色'))"
   ]
  },
  {
   "cell_type": "code",
   "execution_count": null,
   "metadata": {},
   "outputs": [],
   "source": []
  }
 ],
 "metadata": {
  "kernelspec": {
   "display_name": "Python 3",
   "language": "python",
   "name": "python3"
  },
  "language_info": {
   "codemirror_mode": {
    "name": "ipython",
    "version": 3
   },
   "file_extension": ".py",
   "mimetype": "text/x-python",
   "name": "python",
   "nbconvert_exporter": "python",
   "pygments_lexer": "ipython3",
   "version": "3.7.1"
  }
 },
 "nbformat": 4,
 "nbformat_minor": 2
}
